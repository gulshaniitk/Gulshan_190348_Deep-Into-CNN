{
 "cells": [
  {
   "cell_type": "code",
   "execution_count": 31,
   "id": "5001a1ea",
   "metadata": {},
   "outputs": [],
   "source": [
    "import pandas as pd\n",
    "import matplotlib.pyplot as plt\n",
    "import numpy as np"
   ]
  },
  {
   "cell_type": "code",
   "execution_count": 18,
   "id": "2968639d",
   "metadata": {},
   "outputs": [
    {
     "data": {
      "text/html": [
       "<div>\n",
       "<style scoped>\n",
       "    .dataframe tbody tr th:only-of-type {\n",
       "        vertical-align: middle;\n",
       "    }\n",
       "\n",
       "    .dataframe tbody tr th {\n",
       "        vertical-align: top;\n",
       "    }\n",
       "\n",
       "    .dataframe thead th {\n",
       "        text-align: right;\n",
       "    }\n",
       "</style>\n",
       "<table border=\"1\" class=\"dataframe\">\n",
       "  <thead>\n",
       "    <tr style=\"text-align: right;\">\n",
       "      <th></th>\n",
       "      <th>Pregnancies</th>\n",
       "      <th>Glucose</th>\n",
       "      <th>BloodPressure</th>\n",
       "      <th>SkinThickness</th>\n",
       "      <th>Insulin</th>\n",
       "      <th>BMI</th>\n",
       "      <th>DiabetesPedigreeFunction</th>\n",
       "      <th>Age</th>\n",
       "      <th>Outcome</th>\n",
       "    </tr>\n",
       "  </thead>\n",
       "  <tbody>\n",
       "    <tr>\n",
       "      <th>0</th>\n",
       "      <td>6</td>\n",
       "      <td>148</td>\n",
       "      <td>72</td>\n",
       "      <td>35</td>\n",
       "      <td>0</td>\n",
       "      <td>33.6</td>\n",
       "      <td>0.627</td>\n",
       "      <td>50</td>\n",
       "      <td>1</td>\n",
       "    </tr>\n",
       "    <tr>\n",
       "      <th>1</th>\n",
       "      <td>1</td>\n",
       "      <td>85</td>\n",
       "      <td>66</td>\n",
       "      <td>29</td>\n",
       "      <td>0</td>\n",
       "      <td>26.6</td>\n",
       "      <td>0.351</td>\n",
       "      <td>31</td>\n",
       "      <td>0</td>\n",
       "    </tr>\n",
       "    <tr>\n",
       "      <th>2</th>\n",
       "      <td>8</td>\n",
       "      <td>183</td>\n",
       "      <td>64</td>\n",
       "      <td>0</td>\n",
       "      <td>0</td>\n",
       "      <td>23.3</td>\n",
       "      <td>0.672</td>\n",
       "      <td>32</td>\n",
       "      <td>1</td>\n",
       "    </tr>\n",
       "    <tr>\n",
       "      <th>3</th>\n",
       "      <td>1</td>\n",
       "      <td>89</td>\n",
       "      <td>66</td>\n",
       "      <td>23</td>\n",
       "      <td>94</td>\n",
       "      <td>28.1</td>\n",
       "      <td>0.167</td>\n",
       "      <td>21</td>\n",
       "      <td>0</td>\n",
       "    </tr>\n",
       "    <tr>\n",
       "      <th>4</th>\n",
       "      <td>0</td>\n",
       "      <td>137</td>\n",
       "      <td>40</td>\n",
       "      <td>35</td>\n",
       "      <td>168</td>\n",
       "      <td>43.1</td>\n",
       "      <td>2.288</td>\n",
       "      <td>33</td>\n",
       "      <td>1</td>\n",
       "    </tr>\n",
       "  </tbody>\n",
       "</table>\n",
       "</div>"
      ],
      "text/plain": [
       "   Pregnancies  Glucose  BloodPressure  SkinThickness  Insulin   BMI  \\\n",
       "0            6      148             72             35        0  33.6   \n",
       "1            1       85             66             29        0  26.6   \n",
       "2            8      183             64              0        0  23.3   \n",
       "3            1       89             66             23       94  28.1   \n",
       "4            0      137             40             35      168  43.1   \n",
       "\n",
       "   DiabetesPedigreeFunction  Age  Outcome  \n",
       "0                     0.627   50        1  \n",
       "1                     0.351   31        0  \n",
       "2                     0.672   32        1  \n",
       "3                     0.167   21        0  \n",
       "4                     2.288   33        1  "
      ]
     },
     "execution_count": 18,
     "metadata": {},
     "output_type": "execute_result"
    }
   ],
   "source": [
    "df=pd.read_csv(\"Deep-Into-CNN-master\\Datasets\\diabetes2.csv\")\n",
    "df.head()"
   ]
  },
  {
   "cell_type": "code",
   "execution_count": 20,
   "id": "05f8af68",
   "metadata": {},
   "outputs": [
    {
     "data": {
      "text/plain": [
       "(768, 9)"
      ]
     },
     "execution_count": 20,
     "metadata": {},
     "output_type": "execute_result"
    }
   ],
   "source": [
    "df.shape"
   ]
  },
  {
   "cell_type": "code",
   "execution_count": 23,
   "id": "a2423f81",
   "metadata": {},
   "outputs": [
    {
     "data": {
      "text/plain": [
       "Pregnancies                 0\n",
       "Glucose                     0\n",
       "BloodPressure               0\n",
       "SkinThickness               0\n",
       "Insulin                     0\n",
       "BMI                         0\n",
       "DiabetesPedigreeFunction    0\n",
       "Age                         0\n",
       "Outcome                     0\n",
       "dtype: int64"
      ]
     },
     "execution_count": 23,
     "metadata": {},
     "output_type": "execute_result"
    }
   ],
   "source": [
    "df.isnull().sum()"
   ]
  },
  {
   "cell_type": "code",
   "execution_count": 72,
   "id": "801ca189",
   "metadata": {},
   "outputs": [
    {
     "name": "stderr",
     "output_type": "stream",
     "text": [
      "<ipython-input-72-79d59cfc256a>:3: UserWarning: To output multiple subplots, the figure containing the passed axes is being cleared\n",
      "  df.hist(ax = ax)\n"
     ]
    },
    {
     "data": {
      "text/plain": [
       "array([[<AxesSubplot:title={'center':'Pregnancies'}>,\n",
       "        <AxesSubplot:title={'center':'Glucose'}>,\n",
       "        <AxesSubplot:title={'center':'BloodPressure'}>],\n",
       "       [<AxesSubplot:title={'center':'SkinThickness'}>,\n",
       "        <AxesSubplot:title={'center':'Insulin'}>,\n",
       "        <AxesSubplot:title={'center':'BMI'}>],\n",
       "       [<AxesSubplot:title={'center':'DiabetesPedigreeFunction'}>,\n",
       "        <AxesSubplot:title={'center':'Age'}>,\n",
       "        <AxesSubplot:title={'center':'Outcome'}>]], dtype=object)"
      ]
     },
     "execution_count": 72,
     "metadata": {},
     "output_type": "execute_result"
    },
    {
     "data": {
      "image/png": "[encoded data removed]",
      "text/plain": [
       "<Figure size 1080x1440 with 9 Axes>"
      ]
     },
     "metadata": {
      "needs_background": "light"
     },
     "output_type": "display_data"
    }
   ],
   "source": [
    "fig = plt.figure(figsize = (15,20))\n",
    "ax = fig.gca()\n",
    "df.hist(ax = ax)"
   ]
  },
  {
   "cell_type": "code",
   "execution_count": 44,
   "id": "99cabecf",
   "metadata": {},
   "outputs": [
    {
     "data": {
      "text/html": [
       "<div>\n",
       "<style scoped>\n",
       "    .dataframe tbody tr th:only-of-type {\n",
       "        vertical-align: middle;\n",
       "    }\n",
       "\n",
       "    .dataframe tbody tr th {\n",
       "        vertical-align: top;\n",
       "    }\n",
       "\n",
       "    .dataframe thead th {\n",
       "        text-align: right;\n",
       "    }\n",
       "</style>\n",
       "<table border=\"1\" class=\"dataframe\">\n",
       "  <thead>\n",
       "    <tr style=\"text-align: right;\">\n",
       "      <th></th>\n",
       "      <th>Pregnancies</th>\n",
       "      <th>Glucose</th>\n",
       "      <th>BloodPressure</th>\n",
       "      <th>SkinThickness</th>\n",
       "      <th>Insulin</th>\n",
       "      <th>BMI</th>\n",
       "      <th>DiabetesPedigreeFunction</th>\n",
       "      <th>Age</th>\n",
       "    </tr>\n",
       "  </thead>\n",
       "  <tbody>\n",
       "    <tr>\n",
       "      <th>0</th>\n",
       "      <td>6</td>\n",
       "      <td>148</td>\n",
       "      <td>72</td>\n",
       "      <td>35</td>\n",
       "      <td>0</td>\n",
       "      <td>33.6</td>\n",
       "      <td>0.627</td>\n",
       "      <td>50</td>\n",
       "    </tr>\n",
       "    <tr>\n",
       "      <th>1</th>\n",
       "      <td>1</td>\n",
       "      <td>85</td>\n",
       "      <td>66</td>\n",
       "      <td>29</td>\n",
       "      <td>0</td>\n",
       "      <td>26.6</td>\n",
       "      <td>0.351</td>\n",
       "      <td>31</td>\n",
       "    </tr>\n",
       "    <tr>\n",
       "      <th>2</th>\n",
       "      <td>8</td>\n",
       "      <td>183</td>\n",
       "      <td>64</td>\n",
       "      <td>0</td>\n",
       "      <td>0</td>\n",
       "      <td>23.3</td>\n",
       "      <td>0.672</td>\n",
       "      <td>32</td>\n",
       "    </tr>\n",
       "    <tr>\n",
       "      <th>3</th>\n",
       "      <td>1</td>\n",
       "      <td>89</td>\n",
       "      <td>66</td>\n",
       "      <td>23</td>\n",
       "      <td>94</td>\n",
       "      <td>28.1</td>\n",
       "      <td>0.167</td>\n",
       "      <td>21</td>\n",
       "    </tr>\n",
       "    <tr>\n",
       "      <th>4</th>\n",
       "      <td>0</td>\n",
       "      <td>137</td>\n",
       "      <td>40</td>\n",
       "      <td>35</td>\n",
       "      <td>168</td>\n",
       "      <td>43.1</td>\n",
       "      <td>2.288</td>\n",
       "      <td>33</td>\n",
       "    </tr>\n",
       "  </tbody>\n",
       "</table>\n",
       "</div>"
      ],
      "text/plain": [
       "   Pregnancies  Glucose  BloodPressure  SkinThickness  Insulin   BMI  \\\n",
       "0            6      148             72             35        0  33.6   \n",
       "1            1       85             66             29        0  26.6   \n",
       "2            8      183             64              0        0  23.3   \n",
       "3            1       89             66             23       94  28.1   \n",
       "4            0      137             40             35      168  43.1   \n",
       "\n",
       "   DiabetesPedigreeFunction  Age  \n",
       "0                     0.627   50  \n",
       "1                     0.351   31  \n",
       "2                     0.672   32  \n",
       "3                     0.167   21  \n",
       "4                     2.288   33  "
      ]
     },
     "execution_count": 44,
     "metadata": {},
     "output_type": "execute_result"
    }
   ],
   "source": [
    "X=df[['Pregnancies','Glucose','BloodPressure','SkinThickness','Insulin','BMI','DiabetesPedigreeFunction','Age']]\n",
    "X[0:5]\n",
    "\n"
   ]
  },
  {
   "cell_type": "code",
   "execution_count": 45,
   "id": "77e74a88",
   "metadata": {},
   "outputs": [
    {
     "data": {
      "text/plain": [
       "0    1\n",
       "1    0\n",
       "2    1\n",
       "3    0\n",
       "4    1\n",
       "Name: Outcome, dtype: int64"
      ]
     },
     "execution_count": 45,
     "metadata": {},
     "output_type": "execute_result"
    }
   ],
   "source": [
    "y=df['Outcome']\n",
    "y[0:5]\n"
   ]
  },
  {
   "cell_type": "code",
   "execution_count": 46,
   "id": "b8dde543",
   "metadata": {},
   "outputs": [
    {
     "data": {
      "text/plain": [
       "array([[ 0.63994726,  0.84832379,  0.14964075,  0.90726993, -0.69289057,\n",
       "         0.20401277,  0.46849198,  1.4259954 ],\n",
       "       [-0.84488505, -1.12339636, -0.16054575,  0.53090156, -0.69289057,\n",
       "        -0.68442195, -0.36506078, -0.19067191],\n",
       "       [ 1.23388019,  1.94372388, -0.26394125, -1.28821221, -0.69289057,\n",
       "        -1.10325546,  0.60439732, -0.10558415],\n",
       "       [-0.84488505, -0.99820778, -0.16054575,  0.15453319,  0.12330164,\n",
       "        -0.49404308, -0.92076261, -1.04154944],\n",
       "       [-1.14185152,  0.5040552 , -1.50468724,  0.90726993,  0.76583594,\n",
       "         1.4097456 ,  5.4849091 , -0.0204964 ]])"
      ]
     },
     "execution_count": 46,
     "metadata": {},
     "output_type": "execute_result"
    }
   ],
   "source": [
    "from sklearn import preprocessing\n",
    "X=preprocessing.StandardScaler().fit(X).transform(X)\n",
    "X[0:5]"
   ]
  },
  {
   "cell_type": "code",
   "execution_count": 49,
   "id": "ecca4e4a",
   "metadata": {},
   "outputs": [
    {
     "name": "stdout",
     "output_type": "stream",
     "text": [
      "Train set: (614, 8) (614,)\n",
      "Test_set: (154, 8) (154,)\n"
     ]
    }
   ],
   "source": [
    "from sklearn.model_selection import train_test_split\n",
    "X_train,X_test,y_train,y_test=train_test_split(X,y,test_size=0.2,random_state=4)\n",
    "print(\"Train set:\",X_train.shape ,y_train.shape)\n",
    "print(\"Test_set:\",X_test.shape,y_test.shape)"
   ]
  },
  {
   "cell_type": "code",
   "execution_count": 52,
   "id": "f1f7eb88",
   "metadata": {},
   "outputs": [],
   "source": [
    "from sklearn.linear_model import LogisticRegression\n",
    "from sklearn.metrics import confusion_matrix\n",
    "lr=LogisticRegression().fit(X_train,y_train)"
   ]
  },
  {
   "cell_type": "code",
   "execution_count": 59,
   "id": "157c0bf3",
   "metadata": {},
   "outputs": [
    {
     "data": {
      "text/plain": [
       "array([0, 0, 0, 0, 0, 1, 1, 0, 1, 0, 1, 0, 0, 0, 0, 1, 1, 1, 0, 0, 0, 1,\n",
       "       0, 1, 0, 0, 0, 1, 0, 0, 1, 0, 0, 0, 1, 0, 1, 1, 0, 1, 1, 0, 0, 1,\n",
       "       0, 0, 0, 1, 0, 0, 1, 1, 0, 1, 0, 0, 0, 0, 0, 1, 0, 0, 0, 0, 0, 0,\n",
       "       0, 0, 0, 1, 0, 0, 0, 0, 0, 1, 0, 0, 0, 1, 1, 0, 0, 1, 1, 0, 0, 1,\n",
       "       0, 0, 1, 0, 0, 0, 0, 0, 0, 0, 1, 0, 0, 0, 0, 0, 1, 0, 0, 1, 0, 0,\n",
       "       1, 1, 1, 0, 0, 0, 0, 0, 1, 1, 0, 0, 0, 0, 0, 0, 0, 0, 0, 1, 0, 0,\n",
       "       0, 0, 1, 0, 0, 0, 1, 1, 0, 0, 0, 0, 1, 1, 1, 0, 0, 0, 0, 0, 1, 1],\n",
       "      dtype=int64)"
      ]
     },
     "execution_count": 59,
     "metadata": {},
     "output_type": "execute_result"
    }
   ],
   "source": [
    "yhat=lr.predict(X_test)\n",
    "yhat"
   ]
  },
  {
   "cell_type": "code",
   "execution_count": 55,
   "id": "58b2c76d",
   "metadata": {},
   "outputs": [
    {
     "data": {
      "text/plain": [
       "array([[0.84618903, 0.15381097],\n",
       "       [0.91934837, 0.08065163],\n",
       "       [0.89949266, 0.10050734],\n",
       "       [0.61886775, 0.38113225],\n",
       "       [0.78766887, 0.21233113],\n",
       "       [0.17030821, 0.82969179],\n",
       "       [0.4643137 , 0.5356863 ],\n",
       "       [0.55695186, 0.44304814],\n",
       "       [0.08237672, 0.91762328],\n",
       "       [0.79590502, 0.20409498],\n",
       "       [0.49308011, 0.50691989],\n",
       "       [0.94653759, 0.05346241],\n",
       "       [0.79926146, 0.20073854],\n",
       "       [0.94594828, 0.05405172],\n",
       "       [0.88065595, 0.11934405],\n",
       "       [0.33194138, 0.66805862],\n",
       "       [0.11963259, 0.88036741],\n",
       "       [0.049985  , 0.950015  ],\n",
       "       [0.9637167 , 0.0362833 ],\n",
       "       [0.95418596, 0.04581404],\n",
       "       [0.88428809, 0.11571191],\n",
       "       [0.27955451, 0.72044549],\n",
       "       [0.73366583, 0.26633417],\n",
       "       [0.14048496, 0.85951504],\n",
       "       [0.8144721 , 0.1855279 ],\n",
       "       [0.70980375, 0.29019625],\n",
       "       [0.89452481, 0.10547519],\n",
       "       [0.31812596, 0.68187404],\n",
       "       [0.74223918, 0.25776082],\n",
       "       [0.8032012 , 0.1967988 ],\n",
       "       [0.25625781, 0.74374219],\n",
       "       [0.94657649, 0.05342351],\n",
       "       [0.69361644, 0.30638356],\n",
       "       [0.95410386, 0.04589614],\n",
       "       [0.43350867, 0.56649133],\n",
       "       [0.57821195, 0.42178805],\n",
       "       [0.31807513, 0.68192487],\n",
       "       [0.46332435, 0.53667565],\n",
       "       [0.88438427, 0.11561573],\n",
       "       [0.18123545, 0.81876455],\n",
       "       [0.35557692, 0.64442308],\n",
       "       [0.68283132, 0.31716868],\n",
       "       [0.73180407, 0.26819593],\n",
       "       [0.25251347, 0.74748653],\n",
       "       [0.89260948, 0.10739052],\n",
       "       [0.80579548, 0.19420452],\n",
       "       [0.68534215, 0.31465785],\n",
       "       [0.1230998 , 0.8769002 ],\n",
       "       [0.76973522, 0.23026478],\n",
       "       [0.91071337, 0.08928663],\n",
       "       [0.2192968 , 0.7807032 ],\n",
       "       [0.32449491, 0.67550509],\n",
       "       [0.85336536, 0.14663464],\n",
       "       [0.35693564, 0.64306436],\n",
       "       [0.69328324, 0.30671676],\n",
       "       [0.87696652, 0.12303348],\n",
       "       [0.70247999, 0.29752001],\n",
       "       [0.98301821, 0.01698179],\n",
       "       [0.88166396, 0.11833604],\n",
       "       [0.49933842, 0.50066158],\n",
       "       [0.62167021, 0.37832979],\n",
       "       [0.90334962, 0.09665038],\n",
       "       [0.63871094, 0.36128906],\n",
       "       [0.96590295, 0.03409705],\n",
       "       [0.78823   , 0.21177   ],\n",
       "       [0.7180451 , 0.2819549 ],\n",
       "       [0.90159147, 0.09840853],\n",
       "       [0.51519716, 0.48480284],\n",
       "       [0.69563092, 0.30436908],\n",
       "       [0.36780743, 0.63219257],\n",
       "       [0.93304146, 0.06695854],\n",
       "       [0.67154975, 0.32845025],\n",
       "       [0.72442133, 0.27557867],\n",
       "       [0.95527896, 0.04472104],\n",
       "       [0.92933749, 0.07066251],\n",
       "       [0.16007358, 0.83992642],\n",
       "       [0.77435282, 0.22564718],\n",
       "       [0.88020903, 0.11979097],\n",
       "       [0.89872258, 0.10127742],\n",
       "       [0.11590126, 0.88409874],\n",
       "       [0.15999737, 0.84000263],\n",
       "       [0.52341845, 0.47658155],\n",
       "       [0.88934053, 0.11065947],\n",
       "       [0.05297242, 0.94702758],\n",
       "       [0.37110305, 0.62889695],\n",
       "       [0.95204547, 0.04795453],\n",
       "       [0.96109004, 0.03890996],\n",
       "       [0.08321588, 0.91678412],\n",
       "       [0.80684206, 0.19315794],\n",
       "       [0.82239242, 0.17760758],\n",
       "       [0.41448983, 0.58551017],\n",
       "       [0.95379063, 0.04620937],\n",
       "       [0.71710016, 0.28289984],\n",
       "       [0.84989302, 0.15010698],\n",
       "       [0.90616899, 0.09383101],\n",
       "       [0.77848943, 0.22151057],\n",
       "       [0.87638041, 0.12361959],\n",
       "       [0.53917062, 0.46082938],\n",
       "       [0.28763124, 0.71236876],\n",
       "       [0.68761218, 0.31238782],\n",
       "       [0.82597458, 0.17402542],\n",
       "       [0.50074555, 0.49925445],\n",
       "       [0.85571906, 0.14428094],\n",
       "       [0.7021136 , 0.2978864 ],\n",
       "       [0.19919136, 0.80080864],\n",
       "       [0.70315336, 0.29684664],\n",
       "       [0.91346882, 0.08653118],\n",
       "       [0.24764019, 0.75235981],\n",
       "       [0.65372031, 0.34627969],\n",
       "       [0.62174045, 0.37825955],\n",
       "       [0.20292576, 0.79707424],\n",
       "       [0.16805683, 0.83194317],\n",
       "       [0.11567735, 0.88432265],\n",
       "       [0.95244575, 0.04755425],\n",
       "       [0.91895409, 0.08104591],\n",
       "       [0.94120258, 0.05879742],\n",
       "       [0.668807  , 0.331193  ],\n",
       "       [0.51606803, 0.48393197],\n",
       "       [0.44042032, 0.55957968],\n",
       "       [0.0594398 , 0.9405602 ],\n",
       "       [0.83530257, 0.16469743],\n",
       "       [0.89006237, 0.10993763],\n",
       "       [0.78503185, 0.21496815],\n",
       "       [0.85687077, 0.14312923],\n",
       "       [0.83956965, 0.16043035],\n",
       "       [0.82637392, 0.17362608],\n",
       "       [0.50517483, 0.49482517],\n",
       "       [0.84198285, 0.15801715],\n",
       "       [0.89092102, 0.10907898],\n",
       "       [0.20569712, 0.79430288],\n",
       "       [0.78505239, 0.21494761],\n",
       "       [0.90027028, 0.09972972],\n",
       "       [0.77486819, 0.22513181],\n",
       "       [0.92456615, 0.07543385],\n",
       "       [0.41549607, 0.58450393],\n",
       "       [0.92224691, 0.07775309],\n",
       "       [0.86821223, 0.13178777],\n",
       "       [0.92141047, 0.07858953],\n",
       "       [0.41577582, 0.58422418],\n",
       "       [0.02105446, 0.97894554],\n",
       "       [0.91847249, 0.08152751],\n",
       "       [0.94371547, 0.05628453],\n",
       "       [0.82041143, 0.17958857],\n",
       "       [0.6622394 , 0.3377606 ],\n",
       "       [0.3794412 , 0.6205588 ],\n",
       "       [0.2727796 , 0.7272204 ],\n",
       "       [0.34403159, 0.65596841],\n",
       "       [0.62992951, 0.37007049],\n",
       "       [0.89511051, 0.10488949],\n",
       "       [0.53123975, 0.46876025],\n",
       "       [0.93520884, 0.06479116],\n",
       "       [0.6199812 , 0.3800188 ],\n",
       "       [0.29534058, 0.70465942],\n",
       "       [0.24333044, 0.75666956]])"
      ]
     },
     "execution_count": 55,
     "metadata": {},
     "output_type": "execute_result"
    }
   ],
   "source": [
    "yhat_prob=lr.predict_proba(X_test)\n",
    "yhat_prob"
   ]
  },
  {
   "cell_type": "code",
   "execution_count": 60,
   "id": "c40911b6",
   "metadata": {},
   "outputs": [
    {
     "name": "stdout",
     "output_type": "stream",
     "text": [
      "\n",
      " sklearn bias(intercept) term : [-0.834576]\n",
      "\n",
      " sklearn estimated coefficients : [[ 0.45473393  0.97558381 -0.29235286  0.00963133 -0.03917234  0.70819416\n",
      "   0.38836837  0.22975039]]\n"
     ]
    }
   ],
   "source": [
    "print ('\\n sklearn bias(intercept) term :', lr.intercept_)\n",
    "print ('\\n sklearn estimated coefficients :', lr.coef_)"
   ]
  },
  {
   "cell_type": "code",
   "execution_count": 63,
   "id": "1aba4a91",
   "metadata": {},
   "outputs": [
    {
     "data": {
      "text/plain": [
       "array([[90, 12],\n",
       "       [17, 35]], dtype=int64)"
      ]
     },
     "execution_count": 63,
     "metadata": {},
     "output_type": "execute_result"
    }
   ],
   "source": [
    "conf_m=confusion_matrix(y_test,yhat)\n",
    "conf_m"
   ]
  },
  {
   "cell_type": "code",
   "execution_count": 65,
   "id": "36f7398c",
   "metadata": {},
   "outputs": [
    {
     "data": {
      "text/plain": [
       "0.8116883116883117"
      ]
     },
     "execution_count": 65,
     "metadata": {},
     "output_type": "execute_result"
    }
   ],
   "source": [
    "from sklearn.metrics import accuracy_score\n",
    "score=accuracy_score(yhat,y_test)\n",
    "score"
   ]
  },
  {
   "cell_type": "code",
   "execution_count": null,
   "id": "165d4e2b",
   "metadata": {},
   "outputs": [],
   "source": []
  }
 ],
 "metadata": {
  "kernelspec": {
   "display_name": "Python 3",
   "language": "python",
   "name": "python3"
  },
  "language_info": {
   "codemirror_mode": {
    "name": "ipython",
    "version": 3
   },
   "file_extension": ".py",
   "mimetype": "text/x-python",
   "name": "python",
   "nbconvert_exporter": "python",
   "pygments_lexer": "ipython3",
   "version": "3.9.5"
  }
 },
 "nbformat": 4,
 "nbformat_minor": 5
}
